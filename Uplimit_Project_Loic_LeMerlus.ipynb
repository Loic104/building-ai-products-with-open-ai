{
 "nbformat": 4,
 "nbformat_minor": 0,
 "metadata": {
  "colab": {
   "provenance": [],
   "toc_visible": true,
   "gpuType": "T4"
  },
  "kernelspec": {
   "name": "python3",
   "language": "python",
   "display_name": "Python 3 (ipykernel)"
  },
  "language_info": {
   "name": "python"
  },
  "accelerator": "GPU"
 },
 "cells": [
  {
   "cell_type": "markdown",
   "source": [
    "This notebook is the submission for the course: [Building AI products with OpenAI](https://corise.com/go/building-ai-products-with-openai-MWKY3)"
   ],
   "metadata": {
    "collapsed": false
   }
  },
  {
   "cell_type": "markdown",
   "source": [
    "# Intro\n",
    "\n",
    "I decided to use local models because I didn't have any openAI credits lefts. Also this allowed me to have more control over which models are being used.\n",
    "\n",
    "We used [Ollama](https://ollama.ai/) to download and manage models on the local machine.\n",
    "We can then use [langchain](https://www.langchain.com/) to run the Ollama models\n",
    "\n",
    "Bellow are some issues I had:\n",
    "- Whisper need ffmpeg so to install it run: `brew install ffmpeg`\n"
   ],
   "metadata": {
    "collapsed": false
   }
  },
  {
   "cell_type": "markdown",
   "source": [
    "# We install everything we need\n"
   ],
   "metadata": {
    "collapsed": false
   }
  },
  {
   "cell_type": "code",
   "outputs": [
    {
     "name": "stdout",
     "output_type": "stream",
     "text": [
      "Requirement already satisfied: feedparser in /Users/loiclemerlus/miniconda3/envs/newConda/lib/python3.8/site-packages (6.0.11)\r\n",
      "Requirement already satisfied: sgmllib3k in /Users/loiclemerlus/miniconda3/envs/newConda/lib/python3.8/site-packages (from feedparser) (1.0.0)\r\n",
      "Collecting git+https://github.com/stlukey/whispercpp.py\r\n",
      "  Cloning https://github.com/stlukey/whispercpp.py to /private/var/folders/_r/gx7qddks347_dfxnml9wdkcr0000gn/T/pip-req-build-i53dx580\r\n",
      "  Running command git clone --filter=blob:none --quiet https://github.com/stlukey/whispercpp.py /private/var/folders/_r/gx7qddks347_dfxnml9wdkcr0000gn/T/pip-req-build-i53dx580\r\n",
      "  Resolved https://github.com/stlukey/whispercpp.py to commit 7af678159c29edb3bc2a51a72665073d58f2352f\r\n",
      "  Running command git submodule update --init --recursive -q\r\n",
      "  Installing build dependencies ... \u001B[?25ldone\r\n",
      "\u001B[?25h  Getting requirements to build wheel ... \u001B[?25ldone\r\n",
      "\u001B[?25h  Preparing metadata (pyproject.toml) ... \u001B[?25ldone\r\n",
      "\u001B[?25hRequirement already satisfied: numpy in /Users/loiclemerlus/miniconda3/envs/newConda/lib/python3.8/site-packages (from whispercpp==1.0) (1.24.3)\r\n",
      "Requirement already satisfied: ffmpeg-python in /Users/loiclemerlus/miniconda3/envs/newConda/lib/python3.8/site-packages (from whispercpp==1.0) (0.2.0)\r\n",
      "Requirement already satisfied: requests in /Users/loiclemerlus/miniconda3/envs/newConda/lib/python3.8/site-packages (from whispercpp==1.0) (2.31.0)\r\n",
      "Requirement already satisfied: future in /Users/loiclemerlus/miniconda3/envs/newConda/lib/python3.8/site-packages (from ffmpeg-python->whispercpp==1.0) (0.18.3)\r\n",
      "Requirement already satisfied: charset-normalizer<4,>=2 in /Users/loiclemerlus/miniconda3/envs/newConda/lib/python3.8/site-packages (from requests->whispercpp==1.0) (2.0.4)\r\n",
      "Requirement already satisfied: idna<4,>=2.5 in /Users/loiclemerlus/miniconda3/envs/newConda/lib/python3.8/site-packages (from requests->whispercpp==1.0) (3.4)\r\n",
      "Requirement already satisfied: urllib3<3,>=1.21.1 in /Users/loiclemerlus/miniconda3/envs/newConda/lib/python3.8/site-packages (from requests->whispercpp==1.0) (1.26.18)\r\n",
      "Requirement already satisfied: certifi>=2017.4.17 in /Users/loiclemerlus/miniconda3/envs/newConda/lib/python3.8/site-packages (from requests->whispercpp==1.0) (2023.11.17)\r\n",
      "Requirement already satisfied: langchain in /Users/loiclemerlus/miniconda3/envs/newConda/lib/python3.8/site-packages (0.1.5)\r\n",
      "Requirement already satisfied: PyYAML>=5.3 in /Users/loiclemerlus/miniconda3/envs/newConda/lib/python3.8/site-packages (from langchain) (6.0.1)\r\n",
      "Requirement already satisfied: SQLAlchemy<3,>=1.4 in /Users/loiclemerlus/miniconda3/envs/newConda/lib/python3.8/site-packages (from langchain) (2.0.25)\r\n",
      "Requirement already satisfied: aiohttp<4.0.0,>=3.8.3 in /Users/loiclemerlus/miniconda3/envs/newConda/lib/python3.8/site-packages (from langchain) (3.9.3)\r\n",
      "Requirement already satisfied: async-timeout<5.0.0,>=4.0.0 in /Users/loiclemerlus/miniconda3/envs/newConda/lib/python3.8/site-packages (from langchain) (4.0.3)\r\n",
      "Requirement already satisfied: dataclasses-json<0.7,>=0.5.7 in /Users/loiclemerlus/miniconda3/envs/newConda/lib/python3.8/site-packages (from langchain) (0.6.4)\r\n",
      "Requirement already satisfied: jsonpatch<2.0,>=1.33 in /Users/loiclemerlus/miniconda3/envs/newConda/lib/python3.8/site-packages (from langchain) (1.33)\r\n",
      "Requirement already satisfied: langchain-community<0.1,>=0.0.17 in /Users/loiclemerlus/miniconda3/envs/newConda/lib/python3.8/site-packages (from langchain) (0.0.17)\r\n",
      "Requirement already satisfied: langchain-core<0.2,>=0.1.16 in /Users/loiclemerlus/miniconda3/envs/newConda/lib/python3.8/site-packages (from langchain) (0.1.18)\r\n",
      "Requirement already satisfied: langsmith<0.1,>=0.0.83 in /Users/loiclemerlus/miniconda3/envs/newConda/lib/python3.8/site-packages (from langchain) (0.0.86)\r\n",
      "Requirement already satisfied: numpy<2,>=1 in /Users/loiclemerlus/miniconda3/envs/newConda/lib/python3.8/site-packages (from langchain) (1.24.3)\r\n",
      "Requirement already satisfied: pydantic<3,>=1 in /Users/loiclemerlus/miniconda3/envs/newConda/lib/python3.8/site-packages (from langchain) (2.6.0)\r\n",
      "Requirement already satisfied: requests<3,>=2 in /Users/loiclemerlus/miniconda3/envs/newConda/lib/python3.8/site-packages (from langchain) (2.31.0)\r\n",
      "Requirement already satisfied: tenacity<9.0.0,>=8.1.0 in /Users/loiclemerlus/miniconda3/envs/newConda/lib/python3.8/site-packages (from langchain) (8.2.3)\r\n",
      "Requirement already satisfied: aiosignal>=1.1.2 in /Users/loiclemerlus/miniconda3/envs/newConda/lib/python3.8/site-packages (from aiohttp<4.0.0,>=3.8.3->langchain) (1.3.1)\r\n",
      "Requirement already satisfied: attrs>=17.3.0 in /Users/loiclemerlus/miniconda3/envs/newConda/lib/python3.8/site-packages (from aiohttp<4.0.0,>=3.8.3->langchain) (23.1.0)\r\n",
      "Requirement already satisfied: frozenlist>=1.1.1 in /Users/loiclemerlus/miniconda3/envs/newConda/lib/python3.8/site-packages (from aiohttp<4.0.0,>=3.8.3->langchain) (1.4.1)\r\n",
      "Requirement already satisfied: multidict<7.0,>=4.5 in /Users/loiclemerlus/miniconda3/envs/newConda/lib/python3.8/site-packages (from aiohttp<4.0.0,>=3.8.3->langchain) (6.0.5)\r\n",
      "Requirement already satisfied: yarl<2.0,>=1.0 in /Users/loiclemerlus/miniconda3/envs/newConda/lib/python3.8/site-packages (from aiohttp<4.0.0,>=3.8.3->langchain) (1.9.4)\r\n",
      "Requirement already satisfied: marshmallow<4.0.0,>=3.18.0 in /Users/loiclemerlus/miniconda3/envs/newConda/lib/python3.8/site-packages (from dataclasses-json<0.7,>=0.5.7->langchain) (3.20.2)\r\n",
      "Requirement already satisfied: typing-inspect<1,>=0.4.0 in /Users/loiclemerlus/miniconda3/envs/newConda/lib/python3.8/site-packages (from dataclasses-json<0.7,>=0.5.7->langchain) (0.9.0)\r\n",
      "Requirement already satisfied: jsonpointer>=1.9 in /Users/loiclemerlus/miniconda3/envs/newConda/lib/python3.8/site-packages (from jsonpatch<2.0,>=1.33->langchain) (2.4)\r\n",
      "Requirement already satisfied: anyio<5,>=3 in /Users/loiclemerlus/miniconda3/envs/newConda/lib/python3.8/site-packages (from langchain-core<0.2,>=0.1.16->langchain) (4.2.0)\r\n",
      "Requirement already satisfied: packaging<24.0,>=23.2 in /Users/loiclemerlus/miniconda3/envs/newConda/lib/python3.8/site-packages (from langchain-core<0.2,>=0.1.16->langchain) (23.2)\r\n",
      "Requirement already satisfied: annotated-types>=0.4.0 in /Users/loiclemerlus/miniconda3/envs/newConda/lib/python3.8/site-packages (from pydantic<3,>=1->langchain) (0.6.0)\r\n",
      "Requirement already satisfied: pydantic-core==2.16.1 in /Users/loiclemerlus/miniconda3/envs/newConda/lib/python3.8/site-packages (from pydantic<3,>=1->langchain) (2.16.1)\r\n",
      "Requirement already satisfied: typing-extensions>=4.6.1 in /Users/loiclemerlus/miniconda3/envs/newConda/lib/python3.8/site-packages (from pydantic<3,>=1->langchain) (4.9.0)\r\n",
      "Requirement already satisfied: charset-normalizer<4,>=2 in /Users/loiclemerlus/miniconda3/envs/newConda/lib/python3.8/site-packages (from requests<3,>=2->langchain) (2.0.4)\r\n",
      "Requirement already satisfied: idna<4,>=2.5 in /Users/loiclemerlus/miniconda3/envs/newConda/lib/python3.8/site-packages (from requests<3,>=2->langchain) (3.4)\r\n",
      "Requirement already satisfied: urllib3<3,>=1.21.1 in /Users/loiclemerlus/miniconda3/envs/newConda/lib/python3.8/site-packages (from requests<3,>=2->langchain) (1.26.18)\r\n",
      "Requirement already satisfied: certifi>=2017.4.17 in /Users/loiclemerlus/miniconda3/envs/newConda/lib/python3.8/site-packages (from requests<3,>=2->langchain) (2023.11.17)\r\n",
      "Requirement already satisfied: sniffio>=1.1 in /Users/loiclemerlus/miniconda3/envs/newConda/lib/python3.8/site-packages (from anyio<5,>=3->langchain-core<0.2,>=0.1.16->langchain) (1.3.0)\r\n",
      "Requirement already satisfied: exceptiongroup>=1.0.2 in /Users/loiclemerlus/miniconda3/envs/newConda/lib/python3.8/site-packages (from anyio<5,>=3->langchain-core<0.2,>=0.1.16->langchain) (1.2.0)\r\n",
      "Requirement already satisfied: mypy-extensions>=0.3.0 in /Users/loiclemerlus/miniconda3/envs/newConda/lib/python3.8/site-packages (from typing-inspect<1,>=0.4.0->dataclasses-json<0.7,>=0.5.7->langchain) (1.0.0)\r\n",
      "Requirement already satisfied: langchain-community in /Users/loiclemerlus/miniconda3/envs/newConda/lib/python3.8/site-packages (0.0.17)\r\n",
      "Requirement already satisfied: PyYAML>=5.3 in /Users/loiclemerlus/miniconda3/envs/newConda/lib/python3.8/site-packages (from langchain-community) (6.0.1)\r\n",
      "Requirement already satisfied: SQLAlchemy<3,>=1.4 in /Users/loiclemerlus/miniconda3/envs/newConda/lib/python3.8/site-packages (from langchain-community) (2.0.25)\r\n",
      "Requirement already satisfied: aiohttp<4.0.0,>=3.8.3 in /Users/loiclemerlus/miniconda3/envs/newConda/lib/python3.8/site-packages (from langchain-community) (3.9.3)\r\n",
      "Requirement already satisfied: dataclasses-json<0.7,>=0.5.7 in /Users/loiclemerlus/miniconda3/envs/newConda/lib/python3.8/site-packages (from langchain-community) (0.6.4)\r\n",
      "Requirement already satisfied: langchain-core<0.2,>=0.1.16 in /Users/loiclemerlus/miniconda3/envs/newConda/lib/python3.8/site-packages (from langchain-community) (0.1.18)\r\n",
      "Requirement already satisfied: langsmith<0.1,>=0.0.83 in /Users/loiclemerlus/miniconda3/envs/newConda/lib/python3.8/site-packages (from langchain-community) (0.0.86)\r\n",
      "Requirement already satisfied: numpy<2,>=1 in /Users/loiclemerlus/miniconda3/envs/newConda/lib/python3.8/site-packages (from langchain-community) (1.24.3)\r\n",
      "Requirement already satisfied: requests<3,>=2 in /Users/loiclemerlus/miniconda3/envs/newConda/lib/python3.8/site-packages (from langchain-community) (2.31.0)\r\n",
      "Requirement already satisfied: tenacity<9.0.0,>=8.1.0 in /Users/loiclemerlus/miniconda3/envs/newConda/lib/python3.8/site-packages (from langchain-community) (8.2.3)\r\n",
      "Requirement already satisfied: aiosignal>=1.1.2 in /Users/loiclemerlus/miniconda3/envs/newConda/lib/python3.8/site-packages (from aiohttp<4.0.0,>=3.8.3->langchain-community) (1.3.1)\r\n",
      "Requirement already satisfied: attrs>=17.3.0 in /Users/loiclemerlus/miniconda3/envs/newConda/lib/python3.8/site-packages (from aiohttp<4.0.0,>=3.8.3->langchain-community) (23.1.0)\r\n",
      "Requirement already satisfied: frozenlist>=1.1.1 in /Users/loiclemerlus/miniconda3/envs/newConda/lib/python3.8/site-packages (from aiohttp<4.0.0,>=3.8.3->langchain-community) (1.4.1)\r\n",
      "Requirement already satisfied: multidict<7.0,>=4.5 in /Users/loiclemerlus/miniconda3/envs/newConda/lib/python3.8/site-packages (from aiohttp<4.0.0,>=3.8.3->langchain-community) (6.0.5)\r\n",
      "Requirement already satisfied: yarl<2.0,>=1.0 in /Users/loiclemerlus/miniconda3/envs/newConda/lib/python3.8/site-packages (from aiohttp<4.0.0,>=3.8.3->langchain-community) (1.9.4)\r\n",
      "Requirement already satisfied: async-timeout<5.0,>=4.0 in /Users/loiclemerlus/miniconda3/envs/newConda/lib/python3.8/site-packages (from aiohttp<4.0.0,>=3.8.3->langchain-community) (4.0.3)\r\n",
      "Requirement already satisfied: marshmallow<4.0.0,>=3.18.0 in /Users/loiclemerlus/miniconda3/envs/newConda/lib/python3.8/site-packages (from dataclasses-json<0.7,>=0.5.7->langchain-community) (3.20.2)\r\n",
      "Requirement already satisfied: typing-inspect<1,>=0.4.0 in /Users/loiclemerlus/miniconda3/envs/newConda/lib/python3.8/site-packages (from dataclasses-json<0.7,>=0.5.7->langchain-community) (0.9.0)\r\n",
      "Requirement already satisfied: anyio<5,>=3 in /Users/loiclemerlus/miniconda3/envs/newConda/lib/python3.8/site-packages (from langchain-core<0.2,>=0.1.16->langchain-community) (4.2.0)\r\n",
      "Requirement already satisfied: jsonpatch<2.0,>=1.33 in /Users/loiclemerlus/miniconda3/envs/newConda/lib/python3.8/site-packages (from langchain-core<0.2,>=0.1.16->langchain-community) (1.33)\r\n",
      "Requirement already satisfied: packaging<24.0,>=23.2 in /Users/loiclemerlus/miniconda3/envs/newConda/lib/python3.8/site-packages (from langchain-core<0.2,>=0.1.16->langchain-community) (23.2)\r\n",
      "Requirement already satisfied: pydantic<3,>=1 in /Users/loiclemerlus/miniconda3/envs/newConda/lib/python3.8/site-packages (from langchain-core<0.2,>=0.1.16->langchain-community) (2.6.0)\r\n",
      "Requirement already satisfied: charset-normalizer<4,>=2 in /Users/loiclemerlus/miniconda3/envs/newConda/lib/python3.8/site-packages (from requests<3,>=2->langchain-community) (2.0.4)\r\n",
      "Requirement already satisfied: idna<4,>=2.5 in /Users/loiclemerlus/miniconda3/envs/newConda/lib/python3.8/site-packages (from requests<3,>=2->langchain-community) (3.4)\r\n",
      "Requirement already satisfied: urllib3<3,>=1.21.1 in /Users/loiclemerlus/miniconda3/envs/newConda/lib/python3.8/site-packages (from requests<3,>=2->langchain-community) (1.26.18)\r\n",
      "Requirement already satisfied: certifi>=2017.4.17 in /Users/loiclemerlus/miniconda3/envs/newConda/lib/python3.8/site-packages (from requests<3,>=2->langchain-community) (2023.11.17)\r\n",
      "Requirement already satisfied: typing-extensions>=4.6.0 in /Users/loiclemerlus/miniconda3/envs/newConda/lib/python3.8/site-packages (from SQLAlchemy<3,>=1.4->langchain-community) (4.9.0)\r\n",
      "Requirement already satisfied: sniffio>=1.1 in /Users/loiclemerlus/miniconda3/envs/newConda/lib/python3.8/site-packages (from anyio<5,>=3->langchain-core<0.2,>=0.1.16->langchain-community) (1.3.0)\r\n",
      "Requirement already satisfied: exceptiongroup>=1.0.2 in /Users/loiclemerlus/miniconda3/envs/newConda/lib/python3.8/site-packages (from anyio<5,>=3->langchain-core<0.2,>=0.1.16->langchain-community) (1.2.0)\r\n",
      "Requirement already satisfied: jsonpointer>=1.9 in /Users/loiclemerlus/miniconda3/envs/newConda/lib/python3.8/site-packages (from jsonpatch<2.0,>=1.33->langchain-core<0.2,>=0.1.16->langchain-community) (2.4)\r\n",
      "Requirement already satisfied: annotated-types>=0.4.0 in /Users/loiclemerlus/miniconda3/envs/newConda/lib/python3.8/site-packages (from pydantic<3,>=1->langchain-core<0.2,>=0.1.16->langchain-community) (0.6.0)\r\n",
      "Requirement already satisfied: pydantic-core==2.16.1 in /Users/loiclemerlus/miniconda3/envs/newConda/lib/python3.8/site-packages (from pydantic<3,>=1->langchain-core<0.2,>=0.1.16->langchain-community) (2.16.1)\r\n",
      "Requirement already satisfied: mypy-extensions>=0.3.0 in /Users/loiclemerlus/miniconda3/envs/newConda/lib/python3.8/site-packages (from typing-inspect<1,>=0.4.0->dataclasses-json<0.7,>=0.5.7->langchain-community) (1.0.0)\r\n",
      "Requirement already satisfied: fastapi in /Users/loiclemerlus/miniconda3/envs/newConda/lib/python3.8/site-packages (0.109.1)\r\n",
      "Requirement already satisfied: pydantic!=1.8,!=1.8.1,!=2.0.0,!=2.0.1,!=2.1.0,<3.0.0,>=1.7.4 in /Users/loiclemerlus/miniconda3/envs/newConda/lib/python3.8/site-packages (from fastapi) (2.6.0)\r\n",
      "Requirement already satisfied: starlette<0.36.0,>=0.35.0 in /Users/loiclemerlus/miniconda3/envs/newConda/lib/python3.8/site-packages (from fastapi) (0.35.1)\r\n",
      "Requirement already satisfied: typing-extensions>=4.8.0 in /Users/loiclemerlus/miniconda3/envs/newConda/lib/python3.8/site-packages (from fastapi) (4.9.0)\r\n",
      "Requirement already satisfied: annotated-types>=0.4.0 in /Users/loiclemerlus/miniconda3/envs/newConda/lib/python3.8/site-packages (from pydantic!=1.8,!=1.8.1,!=2.0.0,!=2.0.1,!=2.1.0,<3.0.0,>=1.7.4->fastapi) (0.6.0)\r\n",
      "Requirement already satisfied: pydantic-core==2.16.1 in /Users/loiclemerlus/miniconda3/envs/newConda/lib/python3.8/site-packages (from pydantic!=1.8,!=1.8.1,!=2.0.0,!=2.0.1,!=2.1.0,<3.0.0,>=1.7.4->fastapi) (2.16.1)\r\n",
      "Requirement already satisfied: anyio<5,>=3.4.0 in /Users/loiclemerlus/miniconda3/envs/newConda/lib/python3.8/site-packages (from starlette<0.36.0,>=0.35.0->fastapi) (4.2.0)\r\n",
      "Requirement already satisfied: idna>=2.8 in /Users/loiclemerlus/miniconda3/envs/newConda/lib/python3.8/site-packages (from anyio<5,>=3.4.0->starlette<0.36.0,>=0.35.0->fastapi) (3.4)\r\n",
      "Requirement already satisfied: sniffio>=1.1 in /Users/loiclemerlus/miniconda3/envs/newConda/lib/python3.8/site-packages (from anyio<5,>=3.4.0->starlette<0.36.0,>=0.35.0->fastapi) (1.3.0)\r\n",
      "Requirement already satisfied: exceptiongroup>=1.0.2 in /Users/loiclemerlus/miniconda3/envs/newConda/lib/python3.8/site-packages (from anyio<5,>=3.4.0->starlette<0.36.0,>=0.35.0->fastapi) (1.2.0)\r\n",
      "Requirement already satisfied: nest_asyncio in /Users/loiclemerlus/miniconda3/envs/newConda/lib/python3.8/site-packages (1.5.6)\r\n",
      "Requirement already satisfied: uvicorn in /Users/loiclemerlus/miniconda3/envs/newConda/lib/python3.8/site-packages (0.27.0.post1)\r\n",
      "Requirement already satisfied: click>=7.0 in /Users/loiclemerlus/miniconda3/envs/newConda/lib/python3.8/site-packages (from uvicorn) (8.1.7)\r\n",
      "Requirement already satisfied: h11>=0.8 in /Users/loiclemerlus/miniconda3/envs/newConda/lib/python3.8/site-packages (from uvicorn) (0.14.0)\r\n",
      "Requirement already satisfied: typing-extensions>=4.0 in /Users/loiclemerlus/miniconda3/envs/newConda/lib/python3.8/site-packages (from uvicorn) (4.9.0)\r\n",
      "Requirement already satisfied: faiss-cpu in /Users/loiclemerlus/miniconda3/envs/newConda/lib/python3.8/site-packages (1.7.4)\r\n",
      "\u001B[31mERROR: Could not find a version that satisfies the requirement sqlite3 (from versions: none)\u001B[0m\u001B[31m\r\n",
      "\u001B[0m\u001B[31mERROR: No matching distribution found for sqlite3\u001B[0m\u001B[31m\r\n",
      "\u001B[0mRequirement already satisfied: sqlalchemy in /Users/loiclemerlus/miniconda3/envs/newConda/lib/python3.8/site-packages (2.0.25)\r\n",
      "Requirement already satisfied: typing-extensions>=4.6.0 in /Users/loiclemerlus/miniconda3/envs/newConda/lib/python3.8/site-packages (from sqlalchemy) (4.9.0)\r\n",
      "Requirement already satisfied: pydantic in /Users/loiclemerlus/miniconda3/envs/newConda/lib/python3.8/site-packages (2.6.0)\r\n",
      "Requirement already satisfied: annotated-types>=0.4.0 in /Users/loiclemerlus/miniconda3/envs/newConda/lib/python3.8/site-packages (from pydantic) (0.6.0)\r\n",
      "Requirement already satisfied: pydantic-core==2.16.1 in /Users/loiclemerlus/miniconda3/envs/newConda/lib/python3.8/site-packages (from pydantic) (2.16.1)\r\n",
      "Requirement already satisfied: typing-extensions>=4.6.1 in /Users/loiclemerlus/miniconda3/envs/newConda/lib/python3.8/site-packages (from pydantic) (4.9.0)\r\n"
     ]
    }
   ],
   "source": [
    "!pip install feedparser\n",
    "!pip install git+https://github.com/stlukey/whispercpp.py\n",
    "!pip install langchain\n",
    "!pip install langchain-community\n",
    "!pip install fastapi\n",
    "!pip install nest_asyncio\n",
    "!pip install uvicorn\n",
    "!pip install faiss-cpu\n",
    "!pip install sqlalchemy\n",
    "!pip install pydantic"
   ],
   "metadata": {
    "collapsed": false,
    "ExecuteTime": {
     "end_time": "2024-02-04T23:49:30.699546Z",
     "start_time": "2024-02-04T23:49:06.369052Z"
    }
   },
   "execution_count": 1
  },
  {
   "cell_type": "markdown",
   "source": [
    "# We define the functions that can download a podcast information and episode.\n",
    "\n",
    "There are 2 functions:\n",
    "  - get_podcast_information: get the podcast information in a dictionary\n",
    "  - download_episode: download an episode locally"
   ],
   "metadata": {
    "collapsed": false
   }
  },
  {
   "cell_type": "code",
   "outputs": [],
   "source": [
    "import feedparser\n",
    "from pathlib import Path\n",
    "import logging\n",
    "import requests\n",
    "import uuid\n",
    "import os\n",
    "\n",
    "\n",
    "logging.basicConfig(filename='app.log', filemode='w', format='%(name)s - %(levelname)s - %(message)s', level=logging.DEBUG)\n",
    "logger = logging.getLogger()\n",
    "\n",
    "\n",
    "def get_podcast_information(rss_feed):\n",
    "    \"\"\"\n",
    "    Returns the podcast information based on a RSS feed Url\n",
    "\n",
    "    Parameters:\n",
    "        rss_feed (str): The url for the podcast RSS feed\n",
    "\n",
    "    Returns:\n",
    "        podcast(dict): A dictionary with the podcast info\n",
    "        podcast[\"title\"] (string): The name of the podcast\n",
    "        podcast[\"image\"] (string): Url of the podcast thumbnail\n",
    "        podcast[\"episodes\"] (array): an array of all the episodes\n",
    "        episode (dict): an dictionary with the information about an episode\n",
    "        episode[\"title\"] (string): The episode name\n",
    "        episode[\"url\"] (string): The link of the episode\n",
    "    \"\"\"\n",
    "    feed = feedparser.parse(rss_feed)\n",
    "\n",
    "    logger.debug('Getting podcast information from {}'.format(rss_feed))\n",
    "    \n",
    "    podcast = {\n",
    "        \"title\": feed['feed']['title'],\n",
    "        \"image\": feed['feed']['image'].href,\n",
    "        \"link\": feed['feed']['link'],\n",
    "        \"description\": feed['feed']['description'],\n",
    "        \"episodes\": []\n",
    "    }\n",
    "\n",
    "    logger.debug(podcast)\n",
    "    \n",
    "    for episode in feed.entries:\n",
    "        print(episode)\n",
    "        episode_dict = {\n",
    "            \"id\":episode.id,\n",
    "            \"title\": episode.title,\n",
    "            \"description\": episode.summary,\n",
    "            \"date\": episode.published\n",
    "        }\n",
    "        \n",
    "        if \"itunes_episode\" in episode:\n",
    "            episode_dict[\"number\"] = episode[\"itunes_episode\"]\n",
    "        \n",
    "        for link in episode.links:\n",
    "            if link['type'] == 'audio/mpeg' or link['type'] == 'audio/mp3':\n",
    "                episode_dict[\"url\"] = link.href\n",
    "        podcast[\"episodes\"].append(episode_dict)\n",
    "        logger.debug(episode_dict)\n",
    "    return podcast\n",
    "    \n",
    "\n",
    "\n",
    "\n",
    "def download_episode(episode_url, episode_name=str(uuid.uuid4())+\".mp3\", output_folder=\"/tmp/podcasts/\"):\n",
    "    \"\"\"\n",
    "    Download the audio file\n",
    "\n",
    "    Parameters:\n",
    "       episode_url (str): The url for the episode to be downloaded\n",
    "       episode_name (str, optional): The name of the episode. Will be used as the file name. If not provided a random uuid will be provided. \n",
    "       output_folder (str, optional): the folder to save the downloaded episode. Defaults to \"/tmp/podcasts/\"\n",
    "    \n",
    "    Returns:\n",
    "        episode_path (str): the path of the downloaded episode\n",
    "    \"\"\"\n",
    "    logger.debug('Downloading {url} to folder {folder}'.format(url=episode_url, folder=output_folder))\n",
    "    folder_path = Path(output_folder)\n",
    "    folder_path.mkdir(exist_ok=True)\n",
    "\n",
    "    with requests.get(episode_url, stream=True) as request:\n",
    "        request.raise_for_status()\n",
    "        episode_path = folder_path.joinpath(episode_name)\n",
    "        with open(episode_path, 'wb') as file:\n",
    "            for chunk in request.iter_content(chunk_size=8192):\n",
    "                file.write(chunk)\n",
    "\n",
    "    logger.debug(\"Podcast Episode downloaded to {path}\".format(path=episode_path))\n",
    "    return str(episode_path)\n",
    "\n",
    "# podcast = get_podcast_information(\"https://www.marketplace.org/feed/podcast/make-me-smart\")\n",
    "# if podcast[\"episodes\"][0]:\n",
    "#     download_episode(podcast[\"episodes\"][0][\"url\"], output_folder=os.getcwd()+\"/episodes\", episode_name=\"make_me_smart.mp3\")"
   ],
   "metadata": {
    "collapsed": false,
    "ExecuteTime": {
     "end_time": "2024-02-04T23:51:20.169708Z",
     "start_time": "2024-02-04T23:51:20.055657Z"
    }
   },
   "execution_count": 2
  },
  {
   "cell_type": "markdown",
   "source": [
    "# We define the function that transcribe the episode audio\n",
    "\n",
    "We use Whisper locally to transcribe the episode and then save it locally next to the episode"
   ],
   "metadata": {
    "collapsed": false
   }
  },
  {
   "cell_type": "code",
   "outputs": [],
   "source": [
    "from whispercpp import Whisper\n",
    "\n",
    "def local_transcribe_audio(audio_path):\n",
    "    \"\"\"\n",
    "    Transcribe the audio file and save the content locally next to the audio file\n",
    "    \n",
    "    Parameters:\n",
    "        audio_path (str): the path of the local audio file\n",
    "    \n",
    "    Returns:\n",
    "        transcript_path (str): the path of the transcript text file\n",
    "        transcript (str): the transcript of the audio\n",
    "    \"\"\"\n",
    "    transcript_path = audio_path[:-3]+\"txt\"\n",
    "    logger.debug('Transcribing audio from {audio_path}'.format(audio_path=audio_path))\n",
    "    print(transcript_path)\n",
    "    whisper = Whisper('tiny')\n",
    "    result = whisper.transcribe(audio_path)\n",
    "    transcript = whisper.extract_text(result)\n",
    "    print(transcript)\n",
    "    with open(transcript_path, 'w') as file:\n",
    "        file.write(str(transcript))\n",
    "    logger.debug(\"Transcript saved to {transcript_path}\".format(transcript_path=transcript_path))\n",
    "    return transcript_path, '. '.join(transcript)\n",
    "\n",
    "\n",
    "# audio = os.getcwd()+\"/episodes/make_me_smart.mp3\"\n",
    "# path,audio_transcript =local_transcribe_audio(audio)\n",
    "    "
   ],
   "metadata": {
    "collapsed": false,
    "ExecuteTime": {
     "end_time": "2024-02-05T00:02:14.345606Z",
     "start_time": "2024-02-05T00:02:14.341845Z"
    }
   },
   "execution_count": 9
  },
  {
   "cell_type": "markdown",
   "source": [
    "# We create a function that configure the model we want to use\n",
    "\n",
    "We use Ollama for downloading the model locally, and then use LangChain to use it."
   ],
   "metadata": {
    "collapsed": false
   }
  },
  {
   "cell_type": "code",
   "outputs": [],
   "source": [
    "from langchain_community.chat_models import ChatOllama\n",
    "\n",
    "\n",
    "def setup_local_model(model):\n",
    "    llm = ChatOllama(model=model)\n",
    "    return llm"
   ],
   "metadata": {
    "collapsed": false,
    "ExecuteTime": {
     "end_time": "2024-02-04T23:51:27.691933Z",
     "start_time": "2024-02-04T23:51:26.999166Z"
    }
   },
   "execution_count": 4
  },
  {
   "cell_type": "markdown",
   "source": [
    "# We Tokenize the transcript to create embeddings\n",
    "\n",
    "Creating embeddings allow use to be able to have prompts using the context of the transcript"
   ],
   "metadata": {
    "collapsed": false
   }
  },
  {
   "cell_type": "code",
   "outputs": [],
   "source": [
    "from langchain.text_splitter import RecursiveCharacterTextSplitter\n",
    "from langchain.vectorstores import FAISS\n",
    "from langchain.embeddings import OllamaEmbeddings\n",
    "\n",
    "def create_embeddings_from_transcript(transcript):\n",
    "    \"\"\"\n",
    "    Use langchain to create embeddings\n",
    "    \n",
    "    Parameters:\n",
    "        transcript (string): episode transcript to be converted into embeddings\n",
    "    \n",
    "    Returns:\n",
    "        store (vector store): episode embeddings for the LLM\n",
    "    \"\"\"\n",
    "    # Split the text into chunks\n",
    "    splitter = RecursiveCharacterTextSplitter(chunk_size=1000, chunk_overlap=100)\n",
    "    texts = splitter.split_text(transcript)\n",
    "        \n",
    "    # Create embeddings for each chunk\n",
    "    embeddings = OllamaEmbeddings()\n",
    "    \n",
    "    # Create the vector store using FAISS\n",
    "    store = FAISS.from_texts(texts, embeddings, metadatas=[{\"source\": str(i)} for i in range(len(texts))])\n",
    "    return store"
   ],
   "metadata": {
    "collapsed": false,
    "ExecuteTime": {
     "end_time": "2024-02-04T23:51:29.401960Z",
     "start_time": "2024-02-04T23:51:29.146713Z"
    }
   },
   "execution_count": 5
  },
  {
   "cell_type": "markdown",
   "source": [
    "# We create the prompts to extract different information from the transcript\n",
    "\n",
    "We want to get the following information:\n",
    "- Podcast bullet points of the topics\n",
    "- Podcast hosts and guest\n",
    "- the picks from the guests if there is any\n",
    "- keywords from the podcast"
   ],
   "metadata": {
    "collapsed": false
   }
  },
  {
   "cell_type": "code",
   "outputs": [],
   "source": [
    "from langchain.prompts.chat import (\n",
    "    ChatPromptTemplate,\n",
    "    AIMessagePromptTemplate,\n",
    "    HumanMessagePromptTemplate,\n",
    ")\n",
    "from langchain.chains.question_answering import load_qa_chain\n",
    "from langchain_core.messages import SystemMessage\n",
    "\n",
    "def create_chat_prompt_template(llm):\n",
    "    prompt = ChatPromptTemplate.from_messages(\n",
    "        [\n",
    "            SystemMessage(\n",
    "                content=(\n",
    "                    \"\"\"\n",
    "                    You are an expert copywriter tasked to read transcripts of podcast episodes and summarise them in a concise way.\n",
    "                    You answer questions about the contents of a transcribed audio file. \n",
    "                    Use only the provided audio file transcription as context to answer the question. \n",
    "                    Do not use any additional information.\n",
    "                    If you don't know the answer, just say that you don't know. Do not use external knowledge. \n",
    "                    Use three sentences maximum and keep the answer concise. \n",
    "                    \"\"\"\n",
    "                )\n",
    "            ),\n",
    "            HumanMessagePromptTemplate.from_template(\"Here is the transcript you need to base your answers on {context}\"),\n",
    "            AIMessagePromptTemplate.from_template(\"Thank you I will have a look at this transcript to answer your questions\"),\n",
    "            HumanMessagePromptTemplate.from_template(\"Based on the provided transcript answer the following question: {query}.\"),\n",
    "        ]\n",
    "    )\n",
    "    # load in qa_chain\n",
    "    return load_qa_chain(llm, chain_type=\"stuff\", prompt=prompt)\n",
    "\n",
    "def create_embedding_docs(store, query):\n",
    "    return store.similarity_search(query)\n",
    "\n",
    "def get_episode_summary(docs, chain):\n",
    "    return chain.run(input_documents=docs, query=\"What is the main topic of this podcast. Start with a short summary then a list of bullet points. And conclude with a key highlight\")\n",
    "\n",
    "def get_episode_speakers(docs, chain):\n",
    "    return chain.run(input_documents=docs, query=\"Make the list of the people talking on this podcast. make the difference between guests and hosts. Write your answer in a JSON format without any introduction.\")\n",
    "\n",
    "def get_episode_keywords(docs, chain):\n",
    "    return chain.run(input_documents=docs, query=\"Use 3 to 5 keywords to describe the content of this podcast. Write the list as a JSON array without any introduction\")\n",
    "\n",
    "def get_episode_picks(docs, chain):\n",
    "    return chain.run(input_documents=docs, query=\"Is there any picks by the people on this podcast. Write who made each picks. If there isn't any picks just reply 'no picks' do not write any introduction just give the answer\")"
   ],
   "metadata": {
    "collapsed": false,
    "ExecuteTime": {
     "end_time": "2024-02-04T23:51:31.973868Z",
     "start_time": "2024-02-04T23:51:31.393321Z"
    }
   },
   "execution_count": 6
  },
  {
   "cell_type": "markdown",
   "source": [
    "## Playground\n",
    "to test the functions we have created so far"
   ],
   "metadata": {
    "collapsed": false
   }
  },
  {
   "cell_type": "code",
   "outputs": [
    {
     "name": "stdout",
     "output_type": "stream",
     "text": [
      "store\n",
      "llm_chain=LLMChain(prompt=ChatPromptTemplate(input_variables=['context', 'query'], messages=[SystemMessage(content=\"\\n                    You are an expert copywriter tasked to read transcripts of podcast episodes and summarise them in a concise way.\\n                    You answer questions about the contents of a transcribed audio file. \\n                    Use only the provided audio file transcription as context to answer the question. \\n                    Do not use any additional information.\\n                    If you don't know the answer, just say that you don't know. Do not use external knowledge. \\n                    Use three sentences maximum and keep the answer concise. \\n                    \"), HumanMessagePromptTemplate(prompt=PromptTemplate(input_variables=['context'], template='Here is the transcript you need to base your answers on {context}')), AIMessagePromptTemplate(prompt=PromptTemplate(input_variables=[], template='Thank you I will have a look at this transcript to answer your questions')), HumanMessagePromptTemplate(prompt=PromptTemplate(input_variables=['query'], template='Based on the provided transcript answer the following question: {query}.'))]), llm=ChatOllama()) document_variable_name='context'\n"
     ]
    }
   ],
   "source": [
    "transcript_path = os.getcwd()+\"/episodes/make_me_smart.txt\"\n",
    "\n",
    "with open(transcript_path, 'r') as file:\n",
    "    transcript = file.read()\n",
    "\n",
    "llm= setup_local_model('llama2')\n",
    "store = create_embeddings_from_transcript(transcript)\n",
    "print('store')\n",
    "transcript_chain = create_chat_prompt_template(llm)\n",
    "print(transcript_chain)\n",
    "transcript_docs = store.similarity_search(\"podcast topic\")\n"
   ],
   "metadata": {
    "collapsed": false,
    "ExecuteTime": {
     "end_time": "2024-02-04T23:52:18.905300Z",
     "start_time": "2024-02-04T23:51:34.008747Z"
    }
   },
   "execution_count": 7
  },
  {
   "cell_type": "code",
   "outputs": [
    {
     "data": {
      "text/plain": "\"Summary: The main topic of this podcast is Apple and their products, specifically the new iPhones and other devices.\\n\\nBullet Points:\\n\\n* The hosts discuss the latest news and rumors about Apple's upcoming product releases\\n* They talk about the design and features of the new iPhones and how they compare to previous models\\n* They mention a poll conducted among their listeners about their preferences for Apple devices\\n* One of the hosts shares their personal experience with an Apple device and how it has helped them in their work\\n\\nKey Highlight: The main focus of the podcast is on Apple's latest products and how they are perceived by the hosts and their audience.\""
     },
     "execution_count": 75,
     "metadata": {},
     "output_type": "execute_result"
    }
   ],
   "source": [
    "transcript_chain.run(input_documents=transcript_docs, query=\"What is the main topic of this podcast. Start with a short summary then a list of bullet points. And conclude with a key highlight\")"
   ],
   "metadata": {
    "collapsed": false,
    "ExecuteTime": {
     "end_time": "2024-02-04T21:27:15.074796Z",
     "start_time": "2024-02-04T21:27:05.379128Z"
    }
   },
   "execution_count": 75
  },
  {
   "cell_type": "code",
   "outputs": [
    {
     "data": {
      "text/plain": "'Yes, there are picks made by the people on this podcast. Here are the individuals who made each pick:\\n\\n* Drew picked Apple Vision Pro.\\n* Kimberly Adams picked Novice Afo.\\n* Willie picked Los Angeles.\\n* Ariana Rosas picked a Fume Blanc from via D. Guadalupe in Baja, California, Mexico.'"
     },
     "execution_count": 77,
     "metadata": {},
     "output_type": "execute_result"
    }
   ],
   "source": [
    "transcript_chain.run(input_documents=transcript_docs, query=\"Is there any picks by the people on this podcast. Write who made each picks. If there isn't any picks just reply 'no picks' do not write any introduction just give the answer\")"
   ],
   "metadata": {
    "collapsed": false,
    "ExecuteTime": {
     "end_time": "2024-02-04T21:35:22.072615Z",
     "start_time": "2024-02-04T21:35:14.988749Z"
    }
   },
   "execution_count": 77
  },
  {
   "cell_type": "code",
   "outputs": [
    {
     "data": {
      "text/plain": "'[\\n\"Technology\",\\n\"Apple\",\\n\"Innovation\",\\n\"Products\",\\n\"Reviews\"\\n]'"
     },
     "execution_count": 71,
     "metadata": {},
     "output_type": "execute_result"
    }
   ],
   "source": [
    "transcript_chain.run(input_documents=transcript_docs, query=\"Use 3 to 5 keywords to describe the content of this podcast. Write the list as a JSON array without any introduction\")"
   ],
   "metadata": {
    "collapsed": false,
    "ExecuteTime": {
     "end_time": "2024-02-04T21:20:51.714159Z",
     "start_time": "2024-02-04T21:20:47.841482Z"
    }
   },
   "execution_count": 71
  },
  {
   "cell_type": "code",
   "outputs": [
    {
     "data": {
      "text/plain": "'{\\n\"speakers\": [\\n{\\n\"name\": \"Kimberly Adams\",\\n\"role\": \"host\"\\n},\\n{\\n\"name\": \"Nova Soffinding\",\\n\"role\": \"host\"\\n},\\n{\\n\"name\": \"Willie\",\\n\"role\": \"guest\"\\n},\\n{\\n\"name\": \"Drew\",\\n\"role\": \"host\"\\n},\\n{\\n\"name\": \"Ariana Rosas\",\\n\"role\": \"producer\"\\n}\\n]\\n}'"
     },
     "execution_count": 74,
     "metadata": {},
     "output_type": "execute_result"
    }
   ],
   "source": [
    "transcript_chain.run(input_documents=transcript_docs, query=\"Make the list of the people talking on this podcast. make the difference between guests and hosts. Write your answer in a JSON format without any introduction.\")"
   ],
   "metadata": {
    "collapsed": false,
    "ExecuteTime": {
     "end_time": "2024-02-04T21:25:44.783873Z",
     "start_time": "2024-02-04T21:25:36.479691Z"
    }
   },
   "execution_count": 74
  },
  {
   "cell_type": "markdown",
   "source": [
    "# Setting up the web server\n",
    "\n",
    "We want to have a webserver that will serve an interactive website.\n",
    "We use FastAPI as it is a lightweight python server.\n",
    "\n",
    "Because for this assignment we need to only submit this notebook we need to create the HTML and JavaScript files from the notebook rather than just using static files. The files will still be available in the gitHub repository\n",
    "\n",
    "## Database setup\n",
    "\n",
    "We use a database to store the results so that we don't have to redownload and regenerate everything. We use SQLite with sqlalchemy to make it easier"
   ],
   "metadata": {
    "collapsed": false
   }
  },
  {
   "cell_type": "code",
   "outputs": [],
   "source": [
    "static_path = os.getcwd()+\"/static/\"\n",
    "os.makedirs(\"static\", exist_ok=True)\n",
    "def create_index_html():\n",
    "   \n",
    "    index_html = \"\"\"\n",
    "<!DOCTYPE html>\n",
    "<html lang=\"en\">\n",
    "<head>\n",
    "    <meta name=\"charset\" value=\"UTF-8\">\n",
    "    <meta name=\"viewport\" value=\"width=device-width, initial-scale=1.0\">\n",
    "    <title>Home Page</title>\n",
    "    <!-- Include Tailwind CSS via CDN -->\n",
    "    <script src=\"https://cdn.tailwindcss.com\"></script>\n",
    "    <script src=\"https://unpkg.com/vue@3/dist/vue.global.js\"></script>\n",
    "</head>\n",
    "<body>\n",
    "<div id=\"app\">\n",
    "</div>\n",
    "<!-- Include Vue3 via CDN -->\n",
    "\n",
    "<script type=\"module\">\n",
    "    import app from './app.js'\n",
    "    const {createApp} = Vue;\n",
    "\n",
    "    createApp(app).mount('#app');\n",
    "</script>\n",
    "</body>\n",
    "</html>\n",
    "        \"\"\"\n",
    "    with open(static_path+\"index.html\", 'w') as file:\n",
    "        file.write(index_html)\n",
    "\n",
    "\n",
    "def create_app_js():\n",
    "    app_js=\"\"\"\n",
    "import HomePage from \"./HomePage.js\";\n",
    "import PodcastPage from \"./PodcastPage.js\";\n",
    "\n",
    "export default {\n",
    "  name: 'App',\n",
    "  components: {\n",
    "    HomePage,\n",
    "    PodcastPage\n",
    "  },\n",
    "\n",
    "  setup() {\n",
    "    const {ref, watch} = Vue;\n",
    "\n",
    "    const podcastFeed = ref('')\n",
    "    const podcast = ref(null)\n",
    "\n",
    "    watch(podcastFeed, async (newVal)=>{\n",
    "      const response = await fetch('/api/rss?feed='+newVal)\n",
    "\n",
    "      podcast.value = await response.json()\n",
    "\n",
    "      console.log({podcast: podcast.value})\n",
    "    })\n",
    "\n",
    "    function saveFeed(feed){\n",
    "      console.log({feed})\n",
    "      podcastFeed.value = feed\n",
    "    }\n",
    "\n",
    "    return {podcastFeed, saveFeed, podcast}\n",
    "  },\n",
    "\n",
    "  template: `\n",
    "  <div id=\"content\" class=\"bg-gradient-to-r from-purple-400 via-pink-500 to-red-500 h-screen text-gray-800 text-lg fixed h-full w-full\">\n",
    "    <HomePage v-if=\"!podcastFeed\" @submit=\"saveFeed\"></HomePage>\n",
    "    <PodcastPage v-if=\"podcast\" :podcast=\"podcast\"></PodcastPage>\n",
    "  </div>\n",
    "    `,\n",
    "};\n",
    "    \"\"\"\n",
    "    with open(static_path+\"app.js\", 'w') as file:\n",
    "        file.write(app_js)\n",
    "        \n",
    "def create_home_page():\n",
    "    homepage = \"\"\"\n",
    "export default {\n",
    "  name: 'HomePage',\n",
    "  emits: ['submit'],\n",
    "\n",
    "  setup(props, {emit}) {\n",
    "    const {ref, defineProps, defineEmits} = Vue\n",
    "\n",
    "    console.log({props})\n",
    "    console.log({emit})\n",
    "\n",
    "    const rssFeed = ref('')\n",
    "\n",
    "    function saveFeedUrl() {\n",
    "      console.log({rssFeed: rssFeed.value})\n",
    "      emit('submit', rssFeed.value)\n",
    "    }\n",
    "\n",
    "    return {rssFeed, saveFeedUrl}\n",
    "  },\n",
    "\n",
    "  template: `\n",
    "  <div class=\"flex items-center justify-center h-screen w-full\">\n",
    "    <div id=\"home-page\" class=\"bg-white p-10 rounded-xl shadow-lg max-w-md w-full\">\n",
    "          <h1 class=\"text-4xl font-bold mb-6 text-center\">Podcast RSS Feed</h1>\n",
    "          <p class=\"mb-6 text-center\">Please enter the RSS feed of the podcast:</p>\n",
    "          <input type=\"text\" placeholder=\"RSS feed...\" \n",
    "              class=\"w-full p-3 rounded-lg shadow-inner focus:outline-none focus:ring-2 focus:ring-purple-600\" \n",
    "              :class=\"{ 'ring-2 ring-red-500': rssFeed.length > 0 && rssFeed.length < 3 }\" \n",
    "              v-model=\"rssFeed\">\n",
    "          <button class=\"bg-purple-600 text-white w-full mt-6 p-2 rounded hover:bg-purple-700 transition-colors duration-150\" @click=\"saveFeedUrl\">\n",
    "              Submit\n",
    "          </button>\n",
    "      </div>\n",
    "    </div>\n",
    "    `,\n",
    "};    \n",
    "\"\"\"\n",
    "    with open(static_path+\"HomePage.js\", 'w') as file:\n",
    "        file.write(homepage)\n",
    "        \n",
    "\n",
    "def create_podcast_page():\n",
    "    podcast_page = \"\"\"\n",
    "import EpisodePage  from \"./EpisodePage.js\";\n",
    "\n",
    "export default {\n",
    "  name: 'PodcastPage',\n",
    "  components:{\n",
    "    EpisodePage\n",
    "  },\n",
    "  props: ['podcast'],\n",
    "\n",
    "  setup(props) {\n",
    "\n",
    "    const {ref} = Vue\n",
    "\n",
    "    const podcast = props.podcast\n",
    "    const selectedEpisode = ref(null)\n",
    "\n",
    "\n",
    "    return {podcast, selectedEpisode}\n",
    "  },\n",
    "\n",
    "  template: `\n",
    "    <div v-if=\"!selectedEpisode\" class=\"container mx-auto flex flex-col flex-start p-8\">\n",
    "        <div v-if=\"podcast.title\"  class=\"flex flex-col md:flex-row items-center bg-white p-5 rounded shadow\">\n",
    "            <img class=\"mb-5 md:mb-0 md:mr-5 rounded-full h-48 w-48 object-cover\" :src=\"podcast.image\" alt=\"Podcast Image\">\n",
    "            <div>\n",
    "                <h1 class=\"text-3xl font-bold mb-2\">Podcast Name: {{podcast.title}}</h1>\n",
    "                <p class=\"text-gray-600\">Podcast Description:</p>\n",
    "                <p class=\"text-gray-400 font-sm\" v-html=\"podcast.description\"></p>\n",
    "                <a target=\"_blank\" :href=\"podcast.link\">Go to website</a>\n",
    "            </div>\n",
    "        </div>\n",
    "        <div v-if=\"podcast?.episodes?.length\" class=\"mt-10\">\n",
    "            <h2 class=\"text-2xl font-bold mb-5\">Episodes</h2>\n",
    "            <ul class=\"space-y-4 overflow-scroll\">\n",
    "                <li v-for=\"episode of podcast.episodes\" class=\"bg-white p-4 rounded shadow\">\n",
    "                    <details>\n",
    "                        <summary class=\"text-lg font-bold\">Episode {{episode.number}}: {{episode.title}}</summary>\n",
    "                        <p class=\"text-gray-600 font-sm p-4\" v-html=\"episode.description\"></p>\n",
    "                        <div class=\"mt-2\">\n",
    "                            <button class=\"bg-blue-400 color-white py-1 px-2 rounded-md\" @click=\"selectedEpisode=episode\">Go to Episode Page -></button>\n",
    "                        </div>\n",
    "                    </details>\n",
    "                </li>\n",
    "            </ul>\n",
    "        </div>\n",
    "    </div>\n",
    "    <EpisodePage :episode=\"selectedEpisode\" @back=\"selectedEpisode=null\" />\n",
    "    `,\n",
    "};\n",
    "\"\"\"\n",
    "    with open(static_path+\"PodcastPage.js\", 'w') as file:\n",
    "        file.write(podcast_page)\n",
    "        \n",
    "def create_episode_page():\n",
    "    episode_page = \"\"\"\n",
    "export default {\n",
    "    name: 'EpisodePage',\n",
    "    props: ['episode'],\n",
    "    emits: ['back'],\n",
    "\n",
    "    setup(props, {emit}) {\n",
    "        const {ref} = Vue\n",
    "\n",
    "        function goBack() {\n",
    "            emit('back')\n",
    "        }\n",
    "\n",
    "        const transcript = ref('')\n",
    "        const transcriptPath = ref('')\n",
    "        const audioPath = ref('')\n",
    "\n",
    "        const summary = ref('')\n",
    "        const keywords = ref('')\n",
    "        const speakers = ref('')\n",
    "        const picks = ref('')\n",
    "\n",
    "        async function downloadPodcast() {\n",
    "            const response = await fetch(\"/api/download\", {\n",
    "                method: \"POST\",\n",
    "                body: JSON.stringify({\n",
    "                    url: props.episode.url,\n",
    "                    name: props.episode.title,\n",
    "                }),\n",
    "                headers: {\n",
    "                    \"Content-type\": \"application/json; charset=UTF-8\"\n",
    "                }\n",
    "            });\n",
    "\n",
    "            audioPath.value = await response.text()\n",
    "        }\n",
    "\n",
    "        async function generateTranscript() {\n",
    "            console.log({audioPath: audioPath.value})\n",
    "            const response = await fetch(\"/api/transcribe\", {\n",
    "                method: \"POST\",\n",
    "                body: JSON.stringify({\n",
    "                    path: audioPath.value.replaceAll('\"','')\n",
    "                }),\n",
    "                headers: {\n",
    "                    \"Content-type\": \"application/json; charset=UTF-8\"\n",
    "                }\n",
    "            });\n",
    "\n",
    "            const data = await response.json()\n",
    "\n",
    "            transcript.value = data.transcript\n",
    "            transcriptPath.value = data['transcript_path']\n",
    "        }\n",
    "\n",
    "        async function generateAiResults(){\n",
    "            const response = await fetch('/api/info?episode_url='+props.episode.url)\n",
    "\n",
    "            const data = await response.json()\n",
    "\n",
    "            summary.value= data.summary\n",
    "            keywords.value = data.keywords\n",
    "            speakers.value = data.speakers\n",
    "            picks.value = data.picks\n",
    "        }\n",
    "\n",
    "        return { goBack, downloadPodcast, generateTranscript, generateAiResults, audioPath, transcript, transcriptPath, summary, keywords, speakers, picks}\n",
    "    },\n",
    "\n",
    "    template: `\n",
    "    <div class=\"container mx-auto flex flex-col flex-start p-8\" v-if=\"episode\">\n",
    "        <div class=\"mb-4\">\n",
    "            <button class=\"font-bold\" @click=\"goBack\"><- Go Back</button>\n",
    "        </div>\n",
    "        <div class=\"flex flex-col items-center justify-center w-full bg-white rounded-lg p-8\">\n",
    "            <h2 class=\"text-xl font-bold mb-6\">{{episode.title}}</h3>\n",
    "            <div class=\"flex flex-row gap-10\">\n",
    "                <button class=\"px-3 py-1 text-white transition-colors duration-150 bg-blue-600 rounded-lg focus:shadow-outline hover:bg-blue-500\" @click=\"downloadPodcast\">Download Audio</button>\n",
    "                <button class=\"px-3 py-1 text-white transition-colors duration-150 bg-blue-600 rounded-lg focus:shadow-outline hover:bg-blue-500\" @click=\"generateTranscript\">Generate transcript</button>\n",
    "                <button class=\"px-3 py-1 text-white transition-colors duration-150 bg-blue-600 rounded-lg focus:shadow-outline hover:bg-blue-500\" @click=\"generateAiResults\">Ask AI to generate episode information</button>\n",
    "            </div>\n",
    "            <div class=\"flex flex-col w-full\">\n",
    "                <h3 class=\"font-bold text-lg\">AI Keywords</h3>\n",
    "                <p>\n",
    "                <pre class=\"text-wrap text-sm\">\n",
    "                    {{keywords}}\n",
    "                </pre>\n",
    "                </p>\n",
    "            </div>\n",
    "            <div class=\"flex flex-col w-full\">\n",
    "                <h3 class=\"font-bold text-lg\">AI Summary</h3>\n",
    "                <p>\n",
    "                    <pre class=\"text-wrap text-sm\">{{summary}}</pre>\n",
    "                </p>\n",
    "            </div>\n",
    "            <div class=\"flex flex-col w-full\">\n",
    "                <h3 class=\"font-bold text-lg\">AI Guest list</h3>\n",
    "                <p><pre class=\"text-wrap text-sm\">{{speakers}}</pre></p>\n",
    "            </div>\n",
    "            <div class=\"flex flex-col w-full\">\n",
    "                <h3>AI episode picks</h3>\n",
    "                <p><pre class=\"text-wrap text-sm\">{{picks}}</pre></p>\n",
    "            </div>\n",
    "            <div class=\"flex flex-col w-full\">\n",
    "                <h3 class=\"font-bold text-lg\">Transcript</h3>\n",
    "                <textarea>{{transcript}}</textarea>\n",
    "            </div>\n",
    "        </div>\n",
    "        \n",
    "    </div>\n",
    "    `,\n",
    "};\n",
    "\"\"\"\n",
    "    with open(static_path+\"EpisodePage.js\", 'w') as file:\n",
    "        file.write(episode_page)\n",
    "        \n",
    "create_app_js()\n",
    "create_index_html()\n",
    "create_home_page()\n",
    "create_podcast_page()\n",
    "create_episode_page()"
   ],
   "metadata": {
    "collapsed": false,
    "is_executing": true
   }
  },
  {
   "cell_type": "code",
   "outputs": [
    {
     "name": "stdout",
     "output_type": "stream",
     "text": [
      "2024-02-05 00:03:55,233 INFO sqlalchemy.engine.Engine BEGIN (implicit)\n",
      "2024-02-05 00:03:55,234 INFO sqlalchemy.engine.Engine PRAGMA main.table_info(\"episodes\")\n",
      "2024-02-05 00:03:55,234 INFO sqlalchemy.engine.Engine [raw sql] ()\n",
      "2024-02-05 00:03:55,235 INFO sqlalchemy.engine.Engine COMMIT\n"
     ]
    },
    {
     "name": "stderr",
     "output_type": "stream",
     "text": [
      "INFO:     Started server process [59032]\n",
      "INFO:     Waiting for application startup.\n",
      "INFO:     Application startup complete.\n",
      "INFO:     Uvicorn running on http://127.0.0.1:8000 (Press CTRL+C to quit)\n"
     ]
    },
    {
     "name": "stdout",
     "output_type": "stream",
     "text": [
      "None\n",
      "2024-02-05 00:03:58,877 INFO sqlalchemy.engine.Engine BEGIN (implicit)\n",
      "2024-02-05 00:03:58,882 INFO sqlalchemy.engine.Engine SELECT episodes.summary, episodes.speakers, episodes.keywords, episodes.picks \n",
      "FROM episodes \n",
      "WHERE episodes.url IS NULL\n",
      "2024-02-05 00:03:58,886 INFO sqlalchemy.engine.Engine [generated in 0.00923s] ()\n",
      "2024-02-05 00:03:58,891 INFO sqlalchemy.engine.Engine ROLLBACK\n",
      "INFO:     127.0.0.1:61103 - \"GET /api/info?feed=https://sphinx.acast.com/p/acast/s/ftnewsbriefing/e/65bc648eab4ae90016141d38/media.mp3 HTTP/1.1\" 200 OK\n",
      "INFO:     127.0.0.1:61304 - \"GET /static/index.html HTTP/1.1\" 304 Not Modified\n",
      "INFO:     127.0.0.1:61304 - \"GET /static/PodcastPage.js HTTP/1.1\" 304 Not Modified\n",
      "INFO:     127.0.0.1:61304 - \"GET /static/EpisodePage.js HTTP/1.1\" 200 OK\n",
      "https://feeds.acast.com/public/shows/73fe3ede-5c5c-4850-96a8-30db8dbae8bf\n"
     ]
    },
    {
     "name": "stderr",
     "output_type": "stream",
     "text": [
      "IOPub data rate exceeded.\n",
      "The Jupyter server will temporarily stop sending output\n",
      "to the client in order to avoid crashing it.\n",
      "To change this limit, set the config variable\n",
      "`--ServerApp.iopub_data_rate_limit`.\n",
      "\n",
      "Current values:\n",
      "ServerApp.iopub_data_rate_limit=1000000.0 (bytes/sec)\n",
      "ServerApp.rate_limit_window=3.0 (secs)\n",
      "\n"
     ]
    },
    {
     "name": "stdout",
     "output_type": "stream",
     "text": [
      "https://sphinx.acast.com/p/acast/s/ftnewsbriefing/e/65bc648eab4ae90016141d38/media.mp3\n",
      "2024-02-05 00:04:58,516 INFO sqlalchemy.engine.Engine BEGIN (implicit)\n",
      "2024-02-05 00:04:58,521 INFO sqlalchemy.engine.Engine SELECT episodes.summary, episodes.speakers, episodes.keywords, episodes.picks \n",
      "FROM episodes \n",
      "WHERE episodes.url = ?\n",
      "2024-02-05 00:04:58,528 INFO sqlalchemy.engine.Engine [generated in 0.01169s] ('https://sphinx.acast.com/p/acast/s/ftnewsbriefing/e/65bc648eab4ae90016141d38/media.mp3',)\n",
      "store\n",
      "llm_chain=LLMChain(prompt=ChatPromptTemplate(input_variables=['context', 'query'], messages=[SystemMessage(content=\"\\n                    You are an expert copywriter tasked to read transcripts of podcast episodes and summarise them in a concise way.\\n                    You answer questions about the contents of a transcribed audio file. \\n                    Use only the provided audio file transcription as context to answer the question. \\n                    Do not use any additional information.\\n                    If you don't know the answer, just say that you don't know. Do not use external knowledge. \\n                    Use three sentences maximum and keep the answer concise. \\n                    \"), HumanMessagePromptTemplate(prompt=PromptTemplate(input_variables=['context'], template='Here is the transcript you need to base your answers on {context}')), AIMessagePromptTemplate(prompt=PromptTemplate(input_variables=[], template='Thank you I will have a look at this transcript to answer your questions')), HumanMessagePromptTemplate(prompt=PromptTemplate(input_variables=['query'], template='Based on the provided transcript answer the following question: {query}.'))]), llm=ChatOllama()) document_variable_name='context'\n"
     ]
    },
    {
     "name": "stderr",
     "output_type": "stream",
     "text": [
      "/Users/loiclemerlus/miniconda3/envs/newConda/lib/python3.8/site-packages/langchain_core/_api/deprecation.py:117: LangChainDeprecationWarning: The function `run` was deprecated in LangChain 0.1.0 and will be removed in 0.2.0. Use invoke instead.\n",
      "  warn_deprecated(\n"
     ]
    },
    {
     "name": "stdout",
     "output_type": "stream",
     "text": [
      "2024-02-05 00:06:06,032 INFO sqlalchemy.engine.Engine UPDATE episodes SET summary=?, keywords=?, picks=?, speakers=?\n",
      "2024-02-05 00:06:06,040 INFO sqlalchemy.engine.Engine [generated in 0.00879s] (\"Summary: The main topic of this podcast is the discussion of various topics related to technology, society, and culture.\\n\\nBullet Points:\\n\\n* The h ... (537 characters truncated) ... e of topics related to technology, society, and culture, with a focus on Apple products and services, as well as the impact of technology on society.\", '[\\n\"tech\",\\n\"Apple\",\\n\"innovation\",\\n\"products\",\\n\"reviews\"\\n]', 'Yes, there are picks made by the people on this podcast. Here are the picks:\\n\\n* Drew Jostead picked \"full\" for the category \"universal music group  ... (43 characters truncated) ...  picked \"half empty\" for the category \"Apple Vision Pro poll\"\\n* Kai picked \"I don\\'t know\" for the category \"What are you drinking my young friend?\"', '{\\n\"speakers\": [\\n{\\n\"name\": \"Kai\",\\n\"role\": \"host\"\\n},\\n{\\n\"name\": \"Drew Jostead\",\\n\"role\": \"guest\"\\n},\\n{\\n\"name\": \"Ariana Rosas\",\\n\"role\": \"guest\"\\n},\\n{\\n\"name\": \"Diana\",\\n\"role\": \"guest\"\\n}\\n]\\n}')\n",
      "2024-02-05 00:06:06,049 INFO sqlalchemy.engine.Engine COMMIT\n",
      "INFO:     127.0.0.1:61304 - \"GET /api/info?episode_url=https://sphinx.acast.com/p/acast/s/ftnewsbriefing/e/65bc648eab4ae90016141d38/media.mp3 HTTP/1.1\" 200 OK\n",
      "INFO:     127.0.0.1:62260 - \"GET /static/index.html HTTP/1.1\" 304 Not Modified\n",
      "INFO:     127.0.0.1:62260 - \"GET /static/EpisodePage.js HTTP/1.1\" 200 OK\n",
      "https://feeds.acast.com/public/shows/73fe3ede-5c5c-4850-96a8-30db8dbae8bf\n"
     ]
    },
    {
     "name": "stderr",
     "output_type": "stream",
     "text": [
      "IOPub data rate exceeded.\n",
      "The Jupyter server will temporarily stop sending output\n",
      "to the client in order to avoid crashing it.\n",
      "To change this limit, set the config variable\n",
      "`--ServerApp.iopub_data_rate_limit`.\n",
      "\n",
      "Current values:\n",
      "ServerApp.iopub_data_rate_limit=1000000.0 (bytes/sec)\n",
      "ServerApp.rate_limit_window=3.0 (secs)\n",
      "\n"
     ]
    },
    {
     "name": "stdout",
     "output_type": "stream",
     "text": [
      "https://sphinx.acast.com/p/acast/s/ftnewsbriefing/e/65bc648eab4ae90016141d38/media.mp3\n",
      "2024-02-05 00:08:20,281 INFO sqlalchemy.engine.Engine BEGIN (implicit)\n",
      "2024-02-05 00:08:20,283 INFO sqlalchemy.engine.Engine SELECT episodes.summary, episodes.speakers, episodes.keywords, episodes.picks \n",
      "FROM episodes \n",
      "WHERE episodes.url = ?\n",
      "2024-02-05 00:08:20,285 INFO sqlalchemy.engine.Engine [cached since 201.8s ago] ('https://sphinx.acast.com/p/acast/s/ftnewsbriefing/e/65bc648eab4ae90016141d38/media.mp3',)\n",
      "2024-02-05 00:08:20,291 INFO sqlalchemy.engine.Engine ROLLBACK\n",
      "INFO:     127.0.0.1:62261 - \"GET /api/info?episode_url=https://sphinx.acast.com/p/acast/s/ftnewsbriefing/e/65bc648eab4ae90016141d38/media.mp3 HTTP/1.1\" 200 OK\n",
      "INFO:     127.0.0.1:62361 - \"GET /static/index.html HTTP/1.1\" 304 Not Modified\n",
      "INFO:     127.0.0.1:62361 - \"GET /static/EpisodePage.js HTTP/1.1\" 304 Not Modified\n",
      "https://feeds.acast.com/public/shows/73fe3ede-5c5c-4850-96a8-30db8dbae8bf\n"
     ]
    },
    {
     "name": "stderr",
     "output_type": "stream",
     "text": [
      "IOPub data rate exceeded.\n",
      "The Jupyter server will temporarily stop sending output\n",
      "to the client in order to avoid crashing it.\n",
      "To change this limit, set the config variable\n",
      "`--ServerApp.iopub_data_rate_limit`.\n",
      "\n",
      "Current values:\n",
      "ServerApp.iopub_data_rate_limit=1000000.0 (bytes/sec)\n",
      "ServerApp.rate_limit_window=3.0 (secs)\n",
      "\n"
     ]
    },
    {
     "name": "stdout",
     "output_type": "stream",
     "text": [
      "https://sphinx.acast.com/p/acast/s/ftnewsbriefing/e/65bc648eab4ae90016141d38/media.mp3\n",
      "2024-02-05 00:08:46,034 INFO sqlalchemy.engine.Engine BEGIN (implicit)\n",
      "2024-02-05 00:08:46,037 INFO sqlalchemy.engine.Engine SELECT episodes.summary, episodes.speakers, episodes.keywords, episodes.picks \n",
      "FROM episodes \n",
      "WHERE episodes.url = ?\n",
      "2024-02-05 00:08:46,039 INFO sqlalchemy.engine.Engine [cached since 227.5s ago] ('https://sphinx.acast.com/p/acast/s/ftnewsbriefing/e/65bc648eab4ae90016141d38/media.mp3',)\n",
      "2024-02-05 00:08:46,041 INFO sqlalchemy.engine.Engine ROLLBACK\n",
      "INFO:     127.0.0.1:62362 - \"GET /api/info?episode_url=https://sphinx.acast.com/p/acast/s/ftnewsbriefing/e/65bc648eab4ae90016141d38/media.mp3 HTTP/1.1\" 200 OK\n",
      "INFO:     127.0.0.1:62609 - \"GET /static/index.html HTTP/1.1\" 304 Not Modified\n",
      "INFO:     127.0.0.1:62609 - \"GET /static/EpisodePage.js HTTP/1.1\" 200 OK\n",
      "https://feeds.acast.com/public/shows/73fe3ede-5c5c-4850-96a8-30db8dbae8bf\n"
     ]
    },
    {
     "name": "stderr",
     "output_type": "stream",
     "text": [
      "IOPub data rate exceeded.\n",
      "The Jupyter server will temporarily stop sending output\n",
      "to the client in order to avoid crashing it.\n",
      "To change this limit, set the config variable\n",
      "`--ServerApp.iopub_data_rate_limit`.\n",
      "\n",
      "Current values:\n",
      "ServerApp.iopub_data_rate_limit=1000000.0 (bytes/sec)\n",
      "ServerApp.rate_limit_window=3.0 (secs)\n",
      "\n"
     ]
    },
    {
     "name": "stdout",
     "output_type": "stream",
     "text": [
      "https://sphinx.acast.com/p/acast/s/ftnewsbriefing/e/65bc648eab4ae90016141d38/media.mp3\n",
      "2024-02-05 00:09:35,544 INFO sqlalchemy.engine.Engine BEGIN (implicit)\n",
      "2024-02-05 00:09:35,546 INFO sqlalchemy.engine.Engine SELECT episodes.summary, episodes.speakers, episodes.keywords, episodes.picks \n",
      "FROM episodes \n",
      "WHERE episodes.url = ?\n",
      "2024-02-05 00:09:35,547 INFO sqlalchemy.engine.Engine [cached since 277s ago] ('https://sphinx.acast.com/p/acast/s/ftnewsbriefing/e/65bc648eab4ae90016141d38/media.mp3',)\n",
      "2024-02-05 00:09:35,549 INFO sqlalchemy.engine.Engine ROLLBACK\n",
      "INFO:     127.0.0.1:62610 - \"GET /api/info?episode_url=https://sphinx.acast.com/p/acast/s/ftnewsbriefing/e/65bc648eab4ae90016141d38/media.mp3 HTTP/1.1\" 200 OK\n",
      "INFO:     127.0.0.1:63078 - \"GET /static/index.html HTTP/1.1\" 304 Not Modified\n",
      "INFO:     127.0.0.1:63078 - \"GET /static/EpisodePage.js HTTP/1.1\" 200 OK\n",
      "https://feeds.acast.com/public/shows/73fe3ede-5c5c-4850-96a8-30db8dbae8bf\n"
     ]
    },
    {
     "name": "stderr",
     "output_type": "stream",
     "text": [
      "IOPub data rate exceeded.\n",
      "The Jupyter server will temporarily stop sending output\n",
      "to the client in order to avoid crashing it.\n",
      "To change this limit, set the config variable\n",
      "`--ServerApp.iopub_data_rate_limit`.\n",
      "\n",
      "Current values:\n",
      "ServerApp.iopub_data_rate_limit=1000000.0 (bytes/sec)\n",
      "ServerApp.rate_limit_window=3.0 (secs)\n",
      "\n"
     ]
    },
    {
     "name": "stdout",
     "output_type": "stream",
     "text": [
      "INFO:     127.0.0.1:63079 - \"GET /static/index.html HTTP/1.1\" 304 Not Modified\n",
      "INFO:     127.0.0.1:63079 - \"GET /static/EpisodePage.js HTTP/1.1\" 304 Not Modified\n",
      "INFO:     127.0.0.1:63079 - \"GET /static/index.html HTTP/1.1\" 304 Not Modified\n",
      "https://feeds.acast.com/public/shows/73fe3ede-5c5c-4850-96a8-30db8dbae8bf\n"
     ]
    },
    {
     "name": "stderr",
     "output_type": "stream",
     "text": [
      "IOPub data rate exceeded.\n",
      "The Jupyter server will temporarily stop sending output\n",
      "to the client in order to avoid crashing it.\n",
      "To change this limit, set the config variable\n",
      "`--ServerApp.iopub_data_rate_limit`.\n",
      "\n",
      "Current values:\n",
      "ServerApp.iopub_data_rate_limit=1000000.0 (bytes/sec)\n",
      "ServerApp.rate_limit_window=3.0 (secs)\n",
      "\n"
     ]
    },
    {
     "name": "stdout",
     "output_type": "stream",
     "text": [
      "https://sphinx.acast.com/p/acast/s/ftnewsbriefing/e/65bc648eab4ae90016141d38/media.mp3\n",
      "2024-02-05 00:12:10,897 INFO sqlalchemy.engine.Engine BEGIN (implicit)\n",
      "2024-02-05 00:12:10,900 INFO sqlalchemy.engine.Engine SELECT episodes.summary, episodes.speakers, episodes.keywords, episodes.picks \n",
      "FROM episodes \n",
      "WHERE episodes.url = ?\n",
      "2024-02-05 00:12:10,901 INFO sqlalchemy.engine.Engine [cached since 432.4s ago] ('https://sphinx.acast.com/p/acast/s/ftnewsbriefing/e/65bc648eab4ae90016141d38/media.mp3',)\n",
      "2024-02-05 00:12:10,904 INFO sqlalchemy.engine.Engine ROLLBACK\n",
      "INFO:     127.0.0.1:63248 - \"GET /api/info?episode_url=https://sphinx.acast.com/p/acast/s/ftnewsbriefing/e/65bc648eab4ae90016141d38/media.mp3 HTTP/1.1\" 200 OK\n",
      "INFO:     127.0.0.1:63564 - \"GET /static/index.html HTTP/1.1\" 304 Not Modified\n",
      "INFO:     127.0.0.1:63564 - \"GET /static/EpisodePage.js HTTP/1.1\" 200 OK\n",
      "https://feeds.acast.com/public/shows/73fe3ede-5c5c-4850-96a8-30db8dbae8bf\n"
     ]
    },
    {
     "name": "stderr",
     "output_type": "stream",
     "text": [
      "IOPub data rate exceeded.\n",
      "The Jupyter server will temporarily stop sending output\n",
      "to the client in order to avoid crashing it.\n",
      "To change this limit, set the config variable\n",
      "`--ServerApp.iopub_data_rate_limit`.\n",
      "\n",
      "Current values:\n",
      "ServerApp.iopub_data_rate_limit=1000000.0 (bytes/sec)\n",
      "ServerApp.rate_limit_window=3.0 (secs)\n",
      "\n"
     ]
    },
    {
     "name": "stdout",
     "output_type": "stream",
     "text": [
      "\n",
      "2024-02-05 00:13:24,385 INFO sqlalchemy.engine.Engine BEGIN (implicit)\n",
      "2024-02-05 00:13:24,388 INFO sqlalchemy.engine.Engine SELECT episodes.transcript, episodes.transcript_path \n",
      "FROM episodes \n",
      "WHERE episodes.audio_path = ?\n",
      "2024-02-05 00:13:24,392 INFO sqlalchemy.engine.Engine [generated in 0.00773s] ('',)\n",
      "None\n",
      "2024-02-05 00:13:24,395 INFO sqlalchemy.engine.Engine ROLLBACK\n",
      "INFO:     127.0.0.1:63564 - \"POST /api/transcribe HTTP/1.1\" 500 Internal Server Error\n"
     ]
    },
    {
     "name": "stderr",
     "output_type": "stream",
     "text": [
      "ERROR:    Exception in ASGI application\n",
      "Traceback (most recent call last):\n",
      "  File \"/Users/loiclemerlus/miniconda3/envs/newConda/lib/python3.8/site-packages/uvicorn/protocols/http/h11_impl.py\", line 404, in run_asgi\n",
      "    result = await app(  # type: ignore[func-returns-value]\n",
      "  File \"/Users/loiclemerlus/miniconda3/envs/newConda/lib/python3.8/site-packages/uvicorn/middleware/proxy_headers.py\", line 84, in __call__\n",
      "    return await self.app(scope, receive, send)\n",
      "  File \"/Users/loiclemerlus/miniconda3/envs/newConda/lib/python3.8/site-packages/fastapi/applications.py\", line 1054, in __call__\n",
      "    await super().__call__(scope, receive, send)\n",
      "  File \"/Users/loiclemerlus/miniconda3/envs/newConda/lib/python3.8/site-packages/starlette/applications.py\", line 123, in __call__\n",
      "    await self.middleware_stack(scope, receive, send)\n",
      "  File \"/Users/loiclemerlus/miniconda3/envs/newConda/lib/python3.8/site-packages/starlette/middleware/errors.py\", line 186, in __call__\n",
      "    raise exc\n",
      "  File \"/Users/loiclemerlus/miniconda3/envs/newConda/lib/python3.8/site-packages/starlette/middleware/errors.py\", line 164, in __call__\n",
      "    await self.app(scope, receive, _send)\n",
      "  File \"/Users/loiclemerlus/miniconda3/envs/newConda/lib/python3.8/site-packages/starlette/middleware/exceptions.py\", line 62, in __call__\n",
      "    await wrap_app_handling_exceptions(self.app, conn)(scope, receive, send)\n",
      "  File \"/Users/loiclemerlus/miniconda3/envs/newConda/lib/python3.8/site-packages/starlette/_exception_handler.py\", line 64, in wrapped_app\n",
      "    raise exc\n",
      "  File \"/Users/loiclemerlus/miniconda3/envs/newConda/lib/python3.8/site-packages/starlette/_exception_handler.py\", line 53, in wrapped_app\n",
      "    await app(scope, receive, sender)\n",
      "  File \"/Users/loiclemerlus/miniconda3/envs/newConda/lib/python3.8/site-packages/starlette/routing.py\", line 762, in __call__\n",
      "    await self.middleware_stack(scope, receive, send)\n",
      "  File \"/Users/loiclemerlus/miniconda3/envs/newConda/lib/python3.8/site-packages/starlette/routing.py\", line 782, in app\n",
      "    await route.handle(scope, receive, send)\n",
      "  File \"/Users/loiclemerlus/miniconda3/envs/newConda/lib/python3.8/site-packages/starlette/routing.py\", line 297, in handle\n",
      "    await self.app(scope, receive, send)\n",
      "  File \"/Users/loiclemerlus/miniconda3/envs/newConda/lib/python3.8/site-packages/starlette/routing.py\", line 77, in app\n",
      "    await wrap_app_handling_exceptions(app, request)(scope, receive, send)\n",
      "  File \"/Users/loiclemerlus/miniconda3/envs/newConda/lib/python3.8/site-packages/starlette/_exception_handler.py\", line 64, in wrapped_app\n",
      "    raise exc\n",
      "  File \"/Users/loiclemerlus/miniconda3/envs/newConda/lib/python3.8/site-packages/starlette/_exception_handler.py\", line 53, in wrapped_app\n",
      "    await app(scope, receive, sender)\n",
      "  File \"/Users/loiclemerlus/miniconda3/envs/newConda/lib/python3.8/site-packages/starlette/routing.py\", line 72, in app\n",
      "    response = await func(request)\n",
      "  File \"/Users/loiclemerlus/miniconda3/envs/newConda/lib/python3.8/site-packages/fastapi/routing.py\", line 299, in app\n",
      "    raise e\n",
      "  File \"/Users/loiclemerlus/miniconda3/envs/newConda/lib/python3.8/site-packages/fastapi/routing.py\", line 294, in app\n",
      "    raw_response = await run_endpoint_function(\n",
      "  File \"/Users/loiclemerlus/miniconda3/envs/newConda/lib/python3.8/site-packages/fastapi/routing.py\", line 191, in run_endpoint_function\n",
      "    return await dependant.call(**values)\n",
      "  File \"/var/folders/_r/gx7qddks347_dfxnml9wdkcr0000gn/T/ipykernel_59032/1686065433.py\", line 80, in transcribe_audio\n",
      "    if result[0]:\n",
      "TypeError: 'NoneType' object is not subscriptable\n"
     ]
    },
    {
     "name": "stdout",
     "output_type": "stream",
     "text": [
      "https://sphinx.acast.com/p/acast/s/ftnewsbriefing/e/65bc648eab4ae90016141d38/media.mp3\n",
      "2024-02-05 00:13:47,295 INFO sqlalchemy.engine.Engine BEGIN (implicit)\n",
      "2024-02-05 00:13:47,301 INFO sqlalchemy.engine.Engine SELECT episodes.summary, episodes.speakers, episodes.keywords, episodes.picks \n",
      "FROM episodes \n",
      "WHERE episodes.url = ?\n",
      "2024-02-05 00:13:47,302 INFO sqlalchemy.engine.Engine [cached since 528.8s ago] ('https://sphinx.acast.com/p/acast/s/ftnewsbriefing/e/65bc648eab4ae90016141d38/media.mp3',)\n",
      "2024-02-05 00:13:47,305 INFO sqlalchemy.engine.Engine ROLLBACK\n",
      "INFO:     127.0.0.1:63565 - \"GET /api/info?episode_url=https://sphinx.acast.com/p/acast/s/ftnewsbriefing/e/65bc648eab4ae90016141d38/media.mp3 HTTP/1.1\" 200 OK\n",
      "INFO:     127.0.0.1:64159 - \"GET /static/index.html HTTP/1.1\" 304 Not Modified\n",
      "INFO:     127.0.0.1:64159 - \"GET /static/PodcastPage.js HTTP/1.1\" 200 OK\n",
      "INFO:     127.0.0.1:64159 - \"GET /static/EpisodePage.js HTTP/1.1\" 200 OK\n",
      "https://feeds.acast.com/public/shows/73fe3ede-5c5c-4850-96a8-30db8dbae8bf\n"
     ]
    },
    {
     "name": "stderr",
     "output_type": "stream",
     "text": [
      "IOPub data rate exceeded.\n",
      "The Jupyter server will temporarily stop sending output\n",
      "to the client in order to avoid crashing it.\n",
      "To change this limit, set the config variable\n",
      "`--ServerApp.iopub_data_rate_limit`.\n",
      "\n",
      "Current values:\n",
      "ServerApp.iopub_data_rate_limit=1000000.0 (bytes/sec)\n",
      "ServerApp.rate_limit_window=3.0 (secs)\n",
      "\n"
     ]
    },
    {
     "name": "stdout",
     "output_type": "stream",
     "text": [
      "https://sphinx.acast.com/p/acast/s/ftnewsbriefing/e/65bc648eab4ae90016141d38/media.mp3\n",
      "2024-02-05 00:15:46,243 INFO sqlalchemy.engine.Engine BEGIN (implicit)\n",
      "2024-02-05 00:15:46,244 INFO sqlalchemy.engine.Engine SELECT episodes.summary, episodes.speakers, episodes.keywords, episodes.picks \n",
      "FROM episodes \n",
      "WHERE episodes.url = ?\n",
      "2024-02-05 00:15:46,245 INFO sqlalchemy.engine.Engine [cached since 647.8s ago] ('https://sphinx.acast.com/p/acast/s/ftnewsbriefing/e/65bc648eab4ae90016141d38/media.mp3',)\n",
      "2024-02-05 00:15:46,248 INFO sqlalchemy.engine.Engine ROLLBACK\n",
      "INFO:     127.0.0.1:64159 - \"GET /api/info?episode_url=https://sphinx.acast.com/p/acast/s/ftnewsbriefing/e/65bc648eab4ae90016141d38/media.mp3 HTTP/1.1\" 200 OK\n",
      "INFO:     127.0.0.1:64423 - \"GET /static/index.html HTTP/1.1\" 304 Not Modified\n",
      "INFO:     127.0.0.1:64423 - \"GET /static/PodcastPage.js HTTP/1.1\" 304 Not Modified\n",
      "INFO:     127.0.0.1:64423 - \"GET /static/EpisodePage.js HTTP/1.1\" 200 OK\n",
      "https://feeds.acast.com/public/shows/73fe3ede-5c5c-4850-96a8-30db8dbae8bf\n"
     ]
    },
    {
     "name": "stderr",
     "output_type": "stream",
     "text": [
      "IOPub data rate exceeded.\n",
      "The Jupyter server will temporarily stop sending output\n",
      "to the client in order to avoid crashing it.\n",
      "To change this limit, set the config variable\n",
      "`--ServerApp.iopub_data_rate_limit`.\n",
      "\n",
      "Current values:\n",
      "ServerApp.iopub_data_rate_limit=1000000.0 (bytes/sec)\n",
      "ServerApp.rate_limit_window=3.0 (secs)\n",
      "\n"
     ]
    },
    {
     "name": "stdout",
     "output_type": "stream",
     "text": [
      "https://sphinx.acast.com/p/acast/s/ftnewsbriefing/e/65bc648eab4ae90016141d38/media.mp3\n",
      "2024-02-05 00:16:50,616 INFO sqlalchemy.engine.Engine BEGIN (implicit)\n",
      "2024-02-05 00:16:50,618 INFO sqlalchemy.engine.Engine SELECT episodes.summary, episodes.speakers, episodes.keywords, episodes.picks \n",
      "FROM episodes \n",
      "WHERE episodes.url = ?\n",
      "2024-02-05 00:16:50,619 INFO sqlalchemy.engine.Engine [cached since 712.1s ago] ('https://sphinx.acast.com/p/acast/s/ftnewsbriefing/e/65bc648eab4ae90016141d38/media.mp3',)\n",
      "2024-02-05 00:16:50,622 INFO sqlalchemy.engine.Engine ROLLBACK\n",
      "INFO:     127.0.0.1:64423 - \"GET /api/info?episode_url=https://sphinx.acast.com/p/acast/s/ftnewsbriefing/e/65bc648eab4ae90016141d38/media.mp3 HTTP/1.1\" 200 OK\n",
      "INFO:     127.0.0.1:49337 - \"GET / HTTP/1.1\" 307 Temporary Redirect\n",
      "INFO:     127.0.0.1:49337 - \"GET /static/index.html HTTP/1.1\" 304 Not Modified\n",
      "INFO:     127.0.0.1:49337 - \"GET /static/app.js HTTP/1.1\" 200 OK\n",
      "INFO:     127.0.0.1:49337 - \"GET /static/HomePage.js HTTP/1.1\" 304 Not Modified\n",
      "INFO:     127.0.0.1:49338 - \"GET /static/PodcastPage.js HTTP/1.1\" 200 OK\n",
      "INFO:     127.0.0.1:49338 - \"GET /static/EpisodePage.js HTTP/1.1\" 200 OK\n"
     ]
    },
    {
     "name": "stderr",
     "output_type": "stream",
     "text": [
      "INFO:     Shutting down\n",
      "INFO:     Waiting for application shutdown.\n",
      "INFO:     Application shutdown complete.\n",
      "INFO:     Finished server process [59032]\n"
     ]
    }
   ],
   "source": [
    "from sqlalchemy import create_engine, Table, MetaData, Column, Integer, String, select\n",
    "from fastapi import FastAPI, Request\n",
    "from fastapi.responses import RedirectResponse\n",
    "from fastapi.staticfiles import StaticFiles\n",
    "import json\n",
    "import nest_asyncio\n",
    "import uvicorn\n",
    "from pydantic import BaseModel\n",
    "\n",
    "llm= setup_local_model('llama2')\n",
    "\n",
    "# Create a new SQLite database (or connect to an existing one)\n",
    "engine = create_engine('sqlite:///example.db', echo=True)\n",
    "\n",
    "# Create a metadata instance\n",
    "metadata = MetaData()\n",
    "\n",
    "# Define a new table with a name, metadata,\n",
    "# two columns and a primary key column.\n",
    "episodes = Table('episodes', metadata,\n",
    "                 Column('id', Integer, primary_key=True),\n",
    "                 Column('url', String, unique=True),\n",
    "                 Column('audio_path', String, nullable=True),\n",
    "                 Column('transcript', String, nullable=True),\n",
    "                 Column('transcript_path', String, nullable=True),\n",
    "                 Column('summary', String, nullable=True),\n",
    "                 Column('keywords', String, nullable=True),\n",
    "                 Column('picks', String, nullable=True),\n",
    "                 Column('speakers', String, nullable=True),\n",
    "                 )\n",
    "\n",
    "# Create the table\n",
    "metadata.create_all(engine)\n",
    "\n",
    "app = FastAPI()\n",
    "os.makedirs(\"static\", exist_ok=True)\n",
    "app.mount(\"/static\", StaticFiles(directory=\"static\"), name=\"static\")\n",
    "\n",
    "class PodcastDownloadRequest(BaseModel):\n",
    "    url: str\n",
    "    name: str\n",
    "    \n",
    "class PodcastTranscribeRequest(BaseModel):\n",
    "    path: str\n",
    "\n",
    "@app.get(\"/\")\n",
    "def index():\n",
    "    return RedirectResponse(url=\"/static/index.html\")\n",
    "\n",
    "@app.get(\"/api/rss\")\n",
    "async def rss(request: Request):\n",
    "    rss_feed = request.query_params.get('feed')\n",
    "    print(rss_feed)\n",
    "    podcast_from_rss = get_podcast_information(rss_feed)\n",
    "    return podcast_from_rss\n",
    "\n",
    "@app.post(\"/api/download\")\n",
    "async def download_podcast(request: PodcastDownloadRequest):\n",
    "    podcast_request = request.dict()\n",
    "    print(podcast_request)\n",
    "    with engine.connect() as connection:\n",
    "        result = connection.execute(select(episodes.c.audio_path).where(episodes.c.url == podcast_request[\"url\"])).first()\n",
    "        print(result)\n",
    "        if result:\n",
    "            return result[0]\n",
    "    audio_path = download_episode(podcast_request[\"url\"], podcast_request[\"name\"]+\".mp3\", output_folder=os.getcwd()+\"/episodes\")\n",
    "    with engine.connect() as connection:\n",
    "        connection.execute(episodes.insert().values(url=podcast_request[\"url\"], audio_path=audio_path))\n",
    "        connection.commit()\n",
    "    return audio_path\n",
    "\n",
    "@app.post(\"/api/transcribe\")\n",
    "async def transcribe_audio(request: PodcastTranscribeRequest):\n",
    "    audio_file = request.dict()\n",
    "    audio_path = audio_file[\"path\"]\n",
    "    print(audio_path)\n",
    "    with engine.connect() as connection:\n",
    "        result = connection.execute(select(episodes.c.transcript, episodes.c.transcript_path).where(episodes.c.audio_path == audio_path)).first()\n",
    "        print(result)\n",
    "        if result[0]:\n",
    "            return {\"transcript_path\": result[1], \"transcript\": result[0]}\n",
    "    transcript_path, transcript = local_transcribe_audio(audio_path)\n",
    "    with engine.connect() as connection:\n",
    "        connection.execute(episodes.update().values(transcript=transcript, transcript_path=transcript_path).where(episodes.c.audio_path==audio_path))\n",
    "        connection.commit()\n",
    "    return {\"transcript_path\": transcript_path, \"transcript\": transcript}\n",
    "\n",
    "\n",
    "\n",
    "@app.get(\"/api/info\")\n",
    "async def get_info_from_transcript(request: Request):\n",
    "    episode_url = request.query_params.get(\"episode_url\")\n",
    "    print(episode_url)\n",
    "    with engine.connect() as connection:\n",
    "        result = connection.execute(\n",
    "            select(episodes.c.transcript, episodes.c.summary, episodes.c.speakers, episodes.c.keywords, episodes.c.picks).where(episodes.c.url == episode_url)).first()\n",
    "        if not result:\n",
    "            return {\"summary\": \"\", \"keywords\": \"\", \"speakers\": \"\", \"picks\": \"\"}\n",
    "        if result[1]:\n",
    "            return {\"summary\": result[0], \"keywords\": result[2], \"speakers\": result[1], \"picks\": result[3]}\n",
    "    \n",
    "        episode_store = create_embeddings_from_transcript(result[0])\n",
    "        print('store')\n",
    "        episode_chain = create_chat_prompt_template(llm)\n",
    "        print(transcript_chain)\n",
    "        episode_docs = create_embedding_docs(episode_store,\"podcast topics\")\n",
    "        \n",
    "        summary = get_episode_summary(episode_docs, episode_chain)\n",
    "        speakers = get_episode_speakers(episode_docs, episode_chain)\n",
    "        keywords = get_episode_keywords(episode_docs, episode_chain)\n",
    "        picks = get_episode_picks(episode_docs, episode_chain)\n",
    "        \n",
    "        connection.execute(episodes.update().values(\n",
    "            summary=summary,\n",
    "            keywords=keywords,\n",
    "            picks=picks,\n",
    "            speakers=speakers\n",
    "        ))\n",
    "        connection.commit()\n",
    "        \n",
    "        return {\"summary\": summary, \"keywords\": keywords, \"speakers\": speakers, \"picks\": picks}\n",
    "\n",
    "if __name__ == \"__main__\":\n",
    "    nest_asyncio.apply()\n",
    "    uvicorn.run(app)\n",
    "\n"
   ],
   "metadata": {
    "collapsed": false,
    "ExecuteTime": {
     "end_time": "2024-02-05T00:21:56.191824Z",
     "start_time": "2024-02-05T00:03:55.230041Z"
    }
   },
   "execution_count": 11
  },
  {
   "cell_type": "markdown",
   "source": [],
   "metadata": {
    "collapsed": false
   }
  }
 ]
}
